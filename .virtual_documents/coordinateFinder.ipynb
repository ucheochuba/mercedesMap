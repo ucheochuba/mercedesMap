from geopy.geocoders import Nominatim
from tqdm import tqdm

import numpy as np
import pandas as pd
import re

tqdm.pandas()


df = pd.read_csv("data/data.csv")


df


geolocator = Nominatim(user_agent="my_app")

# Ask the user for an address
address = "BUSH ST& HYDE ST"

try:
    # Search for the location using the Nominatim geocoder
    location = geolocator.geocode(address + ", San Francisco", addressdetails=True)

    # If the location is found, print the latitude and longitude
    if location:
        latitude = location.latitude
        longitude = location.longitude
        print(f"Latitude: {latitude}")
        print(f"Longitude: {longitude}")
        print(f"Address: {location.address}")
    else:
        print("Address not found.")

except Exception as e:
    print(f"Error: {e}")


# filter out entries with "NOT AVAILABLE", "PENDING", etc.
df = df[["Description","Legend"]]
filter = ~(df['Description'].str.contains("NOT AVAILABLE") | df['Description'].str.contains("PENDING") | df['Description'].str.contains("PNDG"))
df = df[filter]


# concatenate signs with the same location
df['Legend'] = df[['Description','Legend']].groupby(['Description'])['Legend'].transform(lambda x: '. '.join(x))


def extract_address(input):
    pattern  = re.compile("^\d+\s*-\s*\d+") # pattern for address like 1300 - 1399 ULLOA ST
    if pattern.match(input):
        extractor = re.compile("^(\d+)\s*-\s*\d+ (.+)") # gets out the first number and street name -> 1300 ULLOA ST
        extracted = " ".join(extractor.search(input).group(1, 2))
    elif "\\" in input or ":" in input:
        extracted = input.replace("\\", "&")
        extracted = extracted.replace(":", "&")
    else:
        print("No pattern found:", input)
        extracted = input

    return extracted 


# clean the addresses so they can be searched easily
df["Address"] = df.Description.apply(extract_address)


def get_lat_long(row):
    address = row["Address"]
    try:
        # Search for the location using the Nominatim geocoder
        location = geolocator.geocode(address + ", San Francisco", addressdetails=True)
    
        # If the location is found, print the latitude and longitude
        if location:
            lat = location.latitude
            long = location.longitude
            return pd.Series([lat, long])
        else:
            print("Address not found:", address)
    
    except Exception as e:
        print(f"Error: {e}", address)

    return pd.Series([np.nan, np.nan])



df[["Lat", "Long"]] = df.progress_apply(get_lat_long, axis=1, result_type='expand')
df


# TODO: Manually reconcile nan entries
df2 = df.dropna()
df2


import pandas as pd
import matplotlib.pyplot as plt
import descartes
import geopandas as gpd
from shapely.geometry import Point, Polygon

%matplotlib inline


street_map = gpd.read_file('region_county.shx')


fig, ax = plt.subplots(figsize=(15,15))
street_map.plot(ax=ax)


geometry = [Point(xy) for xy in zip(df['Longitude'], df['Latitude'])]


geo_df = gpd.GeoDataFrame(df, #specify our data
                          crs=crs #specify our coordinate reference system
                          geometry=geometry) #specify the geometry list we created
geo_df.head()
